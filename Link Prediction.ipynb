{
 "cells": [
  {
   "cell_type": "markdown",
   "id": "c3b62534",
   "metadata": {},
   "source": [
    "## Imports"
   ]
  },
  {
   "cell_type": "code",
   "execution_count": 128,
   "id": "aa8590cf",
   "metadata": {
    "scrolled": true
   },
   "outputs": [],
   "source": [
    "import pandas as pd\n",
    "from neo4j import GraphDatabase"
   ]
  },
  {
   "cell_type": "markdown",
   "id": "bdcf4f08",
   "metadata": {},
   "source": [
    "## Connection"
   ]
  },
  {
   "cell_type": "code",
   "execution_count": 129,
   "id": "48871144",
   "metadata": {
    "scrolled": true
   },
   "outputs": [],
   "source": [
    "URI      = \"neo4j://localhost:7687\"\n",
    "creds    = ('neo4j', 'password')\n",
    "driver   = GraphDatabase.driver(URI, auth=creds)\n",
    "\n",
    "drop = True"
   ]
  },
  {
   "cell_type": "code",
   "execution_count": 130,
   "id": "f98f7ef3",
   "metadata": {
    "scrolled": true
   },
   "outputs": [],
   "source": [
    "def run_cypher(cypher, results=False):\n",
    "    with driver.session() as session:\n",
    "        r = session.run(cypher).data()\n",
    "    if results:\n",
    "        return r"
   ]
  },
  {
   "cell_type": "markdown",
   "id": "339e9503",
   "metadata": {},
   "source": [
    "## Dataset\n",
    "[Human protein-protein interaction network](https://snap.stanford.edu/biodata/datasets/10000/10000-PP-Pathways.html)"
   ]
  },
  {
   "cell_type": "code",
   "execution_count": 131,
   "id": "4b9ecbda",
   "metadata": {
    "scrolled": true
   },
   "outputs": [
    {
     "data": {
      "text/html": [
       "<div>\n",
       "<style scoped>\n",
       "    .dataframe tbody tr th:only-of-type {\n",
       "        vertical-align: middle;\n",
       "    }\n",
       "\n",
       "    .dataframe tbody tr th {\n",
       "        vertical-align: top;\n",
       "    }\n",
       "\n",
       "    .dataframe thead th {\n",
       "        text-align: right;\n",
       "    }\n",
       "</style>\n",
       "<table border=\"1\" class=\"dataframe\">\n",
       "  <thead>\n",
       "    <tr style=\"text-align: right;\">\n",
       "      <th></th>\n",
       "      <th>0</th>\n",
       "      <th>1</th>\n",
       "    </tr>\n",
       "  </thead>\n",
       "  <tbody>\n",
       "    <tr>\n",
       "      <th>0</th>\n",
       "      <td>1394</td>\n",
       "      <td>2778</td>\n",
       "    </tr>\n",
       "    <tr>\n",
       "      <th>1</th>\n",
       "      <td>6331</td>\n",
       "      <td>17999</td>\n",
       "    </tr>\n",
       "    <tr>\n",
       "      <th>2</th>\n",
       "      <td>122704</td>\n",
       "      <td>54460</td>\n",
       "    </tr>\n",
       "    <tr>\n",
       "      <th>3</th>\n",
       "      <td>2597</td>\n",
       "      <td>2911</td>\n",
       "    </tr>\n",
       "    <tr>\n",
       "      <th>4</th>\n",
       "      <td>4790</td>\n",
       "      <td>79155</td>\n",
       "    </tr>\n",
       "  </tbody>\n",
       "</table>\n",
       "</div>"
      ],
      "text/plain": [
       "        0      1\n",
       "0    1394   2778\n",
       "1    6331  17999\n",
       "2  122704  54460\n",
       "3    2597   2911\n",
       "4    4790  79155"
      ]
     },
     "execution_count": 131,
     "metadata": {},
     "output_type": "execute_result"
    }
   ],
   "source": [
    "pd.read_csv('https://raw.githubusercontent.com/seankrobinson/Protein-Interaction_Link-Prediction/master/PP-Pathways_ppi.csv',\n",
    "            header=None).head()"
   ]
  },
  {
   "cell_type": "markdown",
   "id": "1a95b184",
   "metadata": {},
   "source": [
    "## Import Dataset"
   ]
  },
  {
   "cell_type": "code",
   "execution_count": 132,
   "id": "6d023032",
   "metadata": {
    "scrolled": true
   },
   "outputs": [],
   "source": [
    "c = '''\n",
    "// Create constraints\n",
    "CREATE CONSTRAINT proteins IF NOT EXISTS ON (p:Protein) ASSERT p.id IS UNIQUE;\n",
    "'''\n",
    "run_cypher(c)"
   ]
  },
  {
   "cell_type": "markdown",
   "id": "45156bea",
   "metadata": {},
   "source": [
    "## Create Nodes"
   ]
  },
  {
   "cell_type": "code",
   "execution_count": 133,
   "id": "7483d9dd",
   "metadata": {
    "scrolled": true
   },
   "outputs": [
    {
     "name": "stdout",
     "output_type": "stream",
     "text": [
      "[{'COUNT(DISTINCT p)': 15849}]\n",
      "[{'COUNT(DISTINCT p)': 19341}]\n"
     ]
    }
   ],
   "source": [
    "for i in [0,1]:\n",
    "    c = '''\n",
    "    // Load node list\n",
    "    LOAD CSV FROM 'https://raw.githubusercontent.com/seankrobinson/Protein-Interaction_Link-Prediction/master/PP-Pathways_ppi.csv' AS line\n",
    "    WITH line\n",
    "    MERGE (p:Protein {{id: line[{index}]}})\n",
    "    RETURN COUNT(DISTINCT p)\n",
    "    '''\n",
    "    result = run_cypher(c.format(index=i), results=True)\n",
    "    print(result)"
   ]
  },
  {
   "cell_type": "markdown",
   "id": "94d3ad4d",
   "metadata": {},
   "source": [
    "## Create Edges"
   ]
  },
  {
   "cell_type": "code",
   "execution_count": 134,
   "id": "955f6ad1",
   "metadata": {
    "scrolled": false
   },
   "outputs": [
    {
     "name": "stdout",
     "output_type": "stream",
     "text": [
      "[{'COUNT(r)': 342353}]\n"
     ]
    }
   ],
   "source": [
    "c = '''\n",
    "// Load node list\n",
    "LOAD CSV FROM 'https://raw.githubusercontent.com/seankrobinson/Protein-Interaction_Link-Prediction/master/PP-Pathways_ppi.csv' AS line\n",
    "WITH line\n",
    "MATCH (p1:Protein {id: line[0]})\n",
    "WITH line, p1\n",
    "MATCH (p2:Protein {id: line[1]})\n",
    "MERGE (p1)-[r:INTERACTS_WITH]->(p2)\n",
    "RETURN COUNT(r)\n",
    "'''\n",
    "result = run_cypher(c, results=True)\n",
    "print(result)"
   ]
  },
  {
   "cell_type": "markdown",
   "id": "61dd8f50",
   "metadata": {},
   "source": [
    "## Create Link Prediction Pipeline"
   ]
  },
  {
   "cell_type": "code",
   "execution_count": null,
   "id": "c7fd92cb",
   "metadata": {
    "scrolled": true
   },
   "outputs": [],
   "source": [
    "run_cypher(\"CALL gds.beta.model.drop('pipe')\", results=True) if drop else ''\n",
    "\n",
    "c = f'''\n",
    "CALL gds.alpha.ml.pipeline.linkPrediction.create('pipe')\n",
    "'''\n",
    "print(c)\n",
    "run_cypher(c, results=True)"
   ]
  },
  {
   "cell_type": "markdown",
   "id": "64a301a9",
   "metadata": {},
   "source": [
    "## Add Fast RP Embeddings"
   ]
  },
  {
   "cell_type": "code",
   "execution_count": null,
   "id": "d20ade61",
   "metadata": {
    "scrolled": true
   },
   "outputs": [],
   "source": [
    "c = '''\n",
    "CALL gds.alpha.ml.pipeline.linkPrediction.addNodeProperty('pipe', 'fastRP', {\n",
    "  mutateProperty: 'embedding',\n",
    "  embeddingDimension: 256,\n",
    "  iterationWeights: [0.8, 1, 1, 1],\n",
    "  normalizationStrength: 0.5,\n",
    "  randomSeed: 42\n",
    "})\n",
    "'''\n",
    "print(c)\n",
    "run_cypher(c, results=True)"
   ]
  },
  {
   "cell_type": "markdown",
   "id": "d9f52361",
   "metadata": {},
   "source": [
    "## Add pageRank Feature"
   ]
  },
  {
   "cell_type": "code",
   "execution_count": null,
   "id": "8788ceb6",
   "metadata": {
    "scrolled": false
   },
   "outputs": [],
   "source": [
    "c = '''\n",
    "CALL gds.alpha.ml.pipeline.linkPrediction.addNodeProperty('pipe', 'pageRank', \n",
    "{\n",
    "  mutateProperty: 'pageRank'\n",
    "})\n",
    "'''\n",
    "print(c)\n",
    "run_cypher(c, results=True)"
   ]
  },
  {
   "cell_type": "markdown",
   "id": "1e480258",
   "metadata": {},
   "source": [
    "## Add Betweenness Centrality Feature"
   ]
  },
  {
   "cell_type": "code",
   "execution_count": null,
   "id": "a0a93183",
   "metadata": {
    "scrolled": false
   },
   "outputs": [],
   "source": [
    "c = '''\n",
    "CALL gds.alpha.ml.pipeline.linkPrediction.addNodeProperty('pipe', 'betweenness', \n",
    "{\n",
    "  mutateProperty: 'betweenness'\n",
    "})\n",
    "'''\n",
    "print(c)\n",
    "run_cypher(c, results=True)"
   ]
  },
  {
   "cell_type": "code",
   "execution_count": null,
   "id": "b9e86591",
   "metadata": {
    "scrolled": true
   },
   "outputs": [],
   "source": [
    "c = '''\n",
    "CALL gds.alpha.ml.pipeline.linkPrediction.addFeature('pipe', 'hadamard', {\n",
    "  nodeProperties: ['embedding']\n",
    "}) YIELD featureSteps\n",
    "'''\n",
    "print(c)\n",
    "run_cypher(c, results=True)"
   ]
  },
  {
   "cell_type": "code",
   "execution_count": null,
   "id": "a6a04aeb",
   "metadata": {
    "scrolled": true
   },
   "outputs": [],
   "source": [
    "c = '''\n",
    "CALL gds.alpha.ml.pipeline.linkPrediction.configureSplit('pipe', {\n",
    "  testFraction: 0.3,\n",
    "  trainFraction: 0.3,\n",
    "  //negativeSamplingRatio: 1.33,\n",
    "  validationFolds: 7\n",
    "  \n",
    "})\n",
    "YIELD splitConfig\n",
    "'''\n",
    "print(c)\n",
    "run_cypher(c, results=True)"
   ]
  },
  {
   "cell_type": "markdown",
   "id": "1a263da2",
   "metadata": {},
   "source": [
    "## Confifure Model Params"
   ]
  },
  {
   "cell_type": "code",
   "execution_count": null,
   "id": "54a53cd0",
   "metadata": {
    "scrolled": false
   },
   "outputs": [],
   "source": [
    "c = '''\n",
    "CALL gds.alpha.ml.pipeline.linkPrediction.configureParams('pipe',\n",
    "  [{penalty:0, tolerance: 0.001, maxEpochs: 500},\n",
    "   {penalty:0, tolerance: 0.01, maxEpochs: 500},\n",
    "   {penalty:0.01, tolerance: 0.001, maxEpochs: 500},\n",
    "   {penalty:0.01, tolerance: 0.01, maxEpochs: 500}, \n",
    "   {penalty:0.1, tolerance: 0.001, maxEpochs: 500}, \n",
    "   {penalty:0.1, tolerance: 0.01, maxEpochs: 500} ]\n",
    ") YIELD parameterSpace\n",
    "'''\n",
    "print(c)\n",
    "run_cypher(c, results=True)"
   ]
  },
  {
   "cell_type": "markdown",
   "id": "058a8814",
   "metadata": {},
   "source": [
    "## Create graph projection"
   ]
  },
  {
   "cell_type": "code",
   "execution_count": null,
   "id": "7915c0ef",
   "metadata": {
    "scrolled": true
   },
   "outputs": [],
   "source": [
    "run_cypher('call gds.graph.drop(\"proteins\")') if drop else ''\n",
    "\n",
    "c = '''\n",
    "// Create in-memory graph of (Protein)-[:INTERACTS_WITH]-(Protein)\n",
    "CALL gds.graph.create(\n",
    "    'proteins',\n",
    "    'Protein',\n",
    "    {INTERACTS_WITH: \n",
    "        {\n",
    "            orientation: 'UNDIRECTED'\n",
    "        }\n",
    "    }\n",
    ")\n",
    "'''\n",
    "run_cypher(c, results=True)"
   ]
  },
  {
   "cell_type": "markdown",
   "id": "a66afcd4",
   "metadata": {},
   "source": [
    "## Train link prediction model"
   ]
  },
  {
   "cell_type": "code",
   "execution_count": null,
   "id": "5d1d7ad7",
   "metadata": {
    "scrolled": false
   },
   "outputs": [],
   "source": [
    "run_cypher(\"call gds.beta.model.drop('lp-pipeline-model')\", results=True) if drop else ''\n",
    "\n",
    "c = '''\n",
    "CALL gds.alpha.ml.pipeline.linkPrediction.train('proteins', {\n",
    "  pipeline: 'pipe',\n",
    "  modelName: 'lp-pipeline-model',\n",
    "  randomSeed: 42\n",
    "}) YIELD modelInfo\n",
    "RETURN\n",
    "  modelInfo.bestParameters AS winningModel,\n",
    "  modelInfo.metrics.AUCPR.outerTrain AS trainGraphScore,\n",
    "  modelInfo.metrics.AUCPR.test AS testGraphScore\n",
    "'''\n",
    "print(c)\n",
    "run_cypher(c, results=True)"
   ]
  },
  {
   "cell_type": "markdown",
   "id": "138bad66",
   "metadata": {},
   "source": [
    "## Stream Results"
   ]
  },
  {
   "cell_type": "code",
   "execution_count": null,
   "id": "f15ee4c2",
   "metadata": {
    "scrolled": true
   },
   "outputs": [],
   "source": [
    "c = '''\n",
    "CALL gds.alpha.ml.pipeline.linkPrediction.predict.stream('proteins', {\n",
    "  modelName: 'lp-pipeline-model',\n",
    "  topN: 20,\n",
    "  threshold: 0.3\n",
    "})\n",
    " YIELD node1, node2, probability\n",
    "\n",
    "\n",
    " RETURN gds.util.asNode(node1).id AS protein1, gds.util.asNode(node2).id AS protein2, probability\n",
    " ORDER BY probability DESC, protein1\n",
    "'''\n",
    "print(c)\n",
    "results = run_cypher(c, results=True)"
   ]
  },
  {
   "cell_type": "code",
   "execution_count": null,
   "id": "b873385e",
   "metadata": {
    "scrolled": true
   },
   "outputs": [],
   "source": [
    "pd.DataFrame(results).head()"
   ]
  },
  {
   "cell_type": "code",
   "execution_count": null,
   "id": "6fafd00e",
   "metadata": {
    "scrolled": true
   },
   "outputs": [],
   "source": []
  },
  {
   "cell_type": "code",
   "execution_count": null,
   "id": "4332b349",
   "metadata": {
    "scrolled": true
   },
   "outputs": [],
   "source": []
  },
  {
   "cell_type": "code",
   "execution_count": null,
   "id": "c0dab5bf",
   "metadata": {
    "scrolled": true
   },
   "outputs": [],
   "source": []
  }
 ],
 "metadata": {
  "kernelspec": {
   "display_name": "Python 3",
   "language": "python",
   "name": "python3"
  },
  "language_info": {
   "codemirror_mode": {
    "name": "ipython",
    "version": 3
   },
   "file_extension": ".py",
   "mimetype": "text/x-python",
   "name": "python",
   "nbconvert_exporter": "python",
   "pygments_lexer": "ipython3",
   "version": "3.8.8"
  }
 },
 "nbformat": 4,
 "nbformat_minor": 5
}
