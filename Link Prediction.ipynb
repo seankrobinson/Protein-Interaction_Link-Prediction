{
 "cells": [
  {
   "cell_type": "code",
   "execution_count": 41,
   "id": "aa8590cf",
   "metadata": {},
   "outputs": [],
   "source": [
    "import pandas as pd\n",
    "from neo4j import GraphDatabase"
   ]
  },
  {
   "cell_type": "code",
   "execution_count": 42,
   "id": "48871144",
   "metadata": {},
   "outputs": [],
   "source": [
    "URI      = \"neo4j://localhost:7687\"\n",
    "creds    = ('neo4j', 'password')\n",
    "driver   = GraphDatabase.driver(URI, auth=creds)"
   ]
  },
  {
   "cell_type": "code",
   "execution_count": 43,
   "id": "f98f7ef3",
   "metadata": {},
   "outputs": [],
   "source": [
    "def run_cypher(cypher, results=False):\n",
    "    with driver.session() as session:\n",
    "        r = session.run(cypher).data()\n",
    "    if results:\n",
    "        return r"
   ]
  },
  {
   "cell_type": "markdown",
   "id": "15e7b9e7",
   "metadata": {},
   "source": []
  },
  {
   "cell_type": "code",
   "execution_count": 28,
   "id": "6d023032",
   "metadata": {},
   "outputs": [],
   "source": [
    "c = '''\n",
    "// Create constraints\n",
    "CREATE CONSTRAINT proteins IF NOT EXISTS ON (p:Protein) ASSERT p.id IS UNIQUE;\n",
    "'''\n",
    "run_cypher(c)"
   ]
  },
  {
   "cell_type": "markdown",
   "id": "45156bea",
   "metadata": {},
   "source": [
    "## Create Nodes"
   ]
  },
  {
   "cell_type": "code",
   "execution_count": 35,
   "id": "7483d9dd",
   "metadata": {},
   "outputs": [
    {
     "name": "stdout",
     "output_type": "stream",
     "text": [
      "[{'COUNT(distinct p)': 15849}]\n",
      "[{'COUNT(distinct p)': 19341}]\n"
     ]
    }
   ],
   "source": [
    "for i in [0,1]:\n",
    "    c = '''\n",
    "    // Load node list\n",
    "    LOAD CSV FROM 'https://raw.githubusercontent.com/seankrobinson/Protein-Interaction_Link-Prediction/master/PP-Pathways_ppi.csv' AS line\n",
    "    WITH line\n",
    "    MERGE (p:Protein {{id: line[{index}]}})\n",
    "    RETURN COUNT(DISTINCT p)\n",
    "    '''\n",
    "    result = run_cypher(c.format(index=i), results=True)\n",
    "    print(result)"
   ]
  },
  {
   "cell_type": "markdown",
   "id": "94d3ad4d",
   "metadata": {},
   "source": [
    "## Create Edges"
   ]
  },
  {
   "cell_type": "code",
   "execution_count": 38,
   "id": "955f6ad1",
   "metadata": {},
   "outputs": [
    {
     "name": "stdout",
     "output_type": "stream",
     "text": [
      "[{'COUNT(r)': 342353}]\n",
      "[{'COUNT(r)': 342353}]\n"
     ]
    }
   ],
   "source": [
    "c = '''\n",
    "// Load node list\n",
    "LOAD CSV FROM 'https://raw.githubusercontent.com/seankrobinson/Protein-Interaction_Link-Prediction/master/PP-Pathways_ppi.csv' AS line\n",
    "WITH line\n",
    "MATCH (p1:Protein {id: line[0]})\n",
    "WITH line, p1\n",
    "MATCH (p2:Protein {id: line[1]})\n",
    "MERGE (p1)-[r:INTERACTS_WITH]->(p2)\n",
    "RETURN COUNT(r)\n",
    "'''\n",
    "result = run_cypher(c, results=True)\n",
    "print(result)"
   ]
  },
  {
   "cell_type": "code",
   "execution_count": 85,
   "id": "c7fd92cb",
   "metadata": {
    "scrolled": true
   },
   "outputs": [
    {
     "name": "stdout",
     "output_type": "stream",
     "text": [
      "\n",
      "CALL gds.alpha.ml.pipeline.linkPrediction.create('pipe')\n",
      "\n"
     ]
    },
    {
     "data": {
      "text/plain": [
       "[{'name': 'pipe',\n",
       "  'nodePropertySteps': [],\n",
       "  'featureSteps': [],\n",
       "  'splitConfig': {'negativeSamplingRatio': 1.0,\n",
       "   'trainFraction': 0.1,\n",
       "   'testFraction': 0.1,\n",
       "   'validationFolds': 3},\n",
       "  'parameterSpace': [{'useBiasFeature': True,\n",
       "    'maxEpochs': 100,\n",
       "    'minEpochs': 1,\n",
       "    'penalty': 0.0,\n",
       "    'patience': 1,\n",
       "    'batchSize': 100,\n",
       "    'tolerance': 0.001,\n",
       "    'concurrency': 4}]}]"
      ]
     },
     "execution_count": 85,
     "metadata": {},
     "output_type": "execute_result"
    }
   ],
   "source": [
    "run_cypher(\"CALL gds.beta.model.drop('pipe')\", results=True)\n",
    "\n",
    "c = f'''\n",
    "CALL gds.alpha.ml.pipeline.linkPrediction.create('pipe')\n",
    "'''\n",
    "print(c)\n",
    "run_cypher(c, results=True)"
   ]
  },
  {
   "cell_type": "code",
   "execution_count": 86,
   "id": "d20ade61",
   "metadata": {
    "scrolled": true
   },
   "outputs": [
    {
     "name": "stdout",
     "output_type": "stream",
     "text": [
      "\n",
      "CALL gds.alpha.ml.pipeline.linkPrediction.addNodeProperty('pipe', 'fastRP', {\n",
      "  mutateProperty: 'embedding',\n",
      "  embeddingDimension: 256,\n",
      "  randomSeed: 42\n",
      "})\n",
      "\n"
     ]
    },
    {
     "data": {
      "text/plain": [
       "[{'name': 'pipe',\n",
       "  'nodePropertySteps': [{'name': 'gds.fastRP.mutate',\n",
       "    'config': {'randomSeed': 42,\n",
       "     'embeddingDimension': 256,\n",
       "     'mutateProperty': 'embedding'}}],\n",
       "  'featureSteps': [],\n",
       "  'splitConfig': {'negativeSamplingRatio': 1.0,\n",
       "   'trainFraction': 0.1,\n",
       "   'testFraction': 0.1,\n",
       "   'validationFolds': 3},\n",
       "  'parameterSpace': [{'useBiasFeature': True,\n",
       "    'maxEpochs': 100,\n",
       "    'minEpochs': 1,\n",
       "    'penalty': 0.0,\n",
       "    'patience': 1,\n",
       "    'batchSize': 100,\n",
       "    'tolerance': 0.001,\n",
       "    'concurrency': 4}]}]"
      ]
     },
     "execution_count": 86,
     "metadata": {},
     "output_type": "execute_result"
    }
   ],
   "source": [
    "c = '''\n",
    "CALL gds.alpha.ml.pipeline.linkPrediction.addNodeProperty('pipe', 'fastRP', {\n",
    "  mutateProperty: 'embedding',\n",
    "  embeddingDimension: 256,\n",
    "  randomSeed: 42\n",
    "})\n",
    "'''\n",
    "print(c)\n",
    "run_cypher(c, results=True)"
   ]
  },
  {
   "cell_type": "code",
   "execution_count": 87,
   "id": "0695b3a2",
   "metadata": {},
   "outputs": [
    {
     "name": "stdout",
     "output_type": "stream",
     "text": [
      "\n",
      "CALL gds.alpha.ml.pipeline.linkPrediction.addFeature('pipe', 'hadamard', {\n",
      "  nodeProperties: ['embedding']\n",
      "}) YIELD featureSteps\n",
      "\n"
     ]
    },
    {
     "data": {
      "text/plain": [
       "[{'featureSteps': [{'name': 'HADAMARD',\n",
       "    'config': {'nodeProperties': ['embedding']}}]}]"
      ]
     },
     "execution_count": 87,
     "metadata": {},
     "output_type": "execute_result"
    }
   ],
   "source": [
    "c = '''\n",
    "CALL gds.alpha.ml.pipeline.linkPrediction.addFeature('pipe', 'hadamard', {\n",
    "  nodeProperties: ['embedding']\n",
    "}) YIELD featureSteps\n",
    "'''\n",
    "print(c)\n",
    "run_cypher(c, results=True)"
   ]
  },
  {
   "cell_type": "code",
   "execution_count": 88,
   "id": "a6a04aeb",
   "metadata": {},
   "outputs": [
    {
     "name": "stdout",
     "output_type": "stream",
     "text": [
      "\n",
      "CALL gds.alpha.ml.pipeline.linkPrediction.configureSplit('pipe', {\n",
      "  testFraction: 0.3,\n",
      "  trainFraction: 0.3,\n",
      "  validationFolds: 7\n",
      "})\n",
      "YIELD splitConfig\n",
      "\n"
     ]
    },
    {
     "data": {
      "text/plain": [
       "[{'splitConfig': {'negativeSamplingRatio': 1.0,\n",
       "   'trainFraction': 0.3,\n",
       "   'testFraction': 0.3,\n",
       "   'validationFolds': 7}}]"
      ]
     },
     "execution_count": 88,
     "metadata": {},
     "output_type": "execute_result"
    }
   ],
   "source": [
    "c = '''\n",
    "CALL gds.alpha.ml.pipeline.linkPrediction.configureSplit('pipe', {\n",
    "  testFraction: 0.3,\n",
    "  trainFraction: 0.3,\n",
    "  validationFolds: 7\n",
    "})\n",
    "YIELD splitConfig\n",
    "'''\n",
    "print(c)\n",
    "run_cypher(c, results=True)"
   ]
  },
  {
   "cell_type": "code",
   "execution_count": 89,
   "id": "54a53cd0",
   "metadata": {},
   "outputs": [
    {
     "name": "stdout",
     "output_type": "stream",
     "text": [
      "\n",
      "CALL gds.alpha.ml.pipeline.linkPrediction.configureParams('pipe',\n",
      "  [{tolerance: 0.001}, {tolerance: 0.01}, {maxEpochs: 500}]\n",
      ") YIELD parameterSpace\n",
      "\n"
     ]
    },
    {
     "data": {
      "text/plain": [
       "[{'parameterSpace': [{'useBiasFeature': True,\n",
       "    'maxEpochs': 100,\n",
       "    'minEpochs': 1,\n",
       "    'penalty': 0.0,\n",
       "    'patience': 1,\n",
       "    'batchSize': 100,\n",
       "    'tolerance': 0.001},\n",
       "   {'useBiasFeature': True,\n",
       "    'maxEpochs': 100,\n",
       "    'minEpochs': 1,\n",
       "    'penalty': 0.0,\n",
       "    'patience': 1,\n",
       "    'batchSize': 100,\n",
       "    'tolerance': 0.01},\n",
       "   {'useBiasFeature': True,\n",
       "    'maxEpochs': 500,\n",
       "    'minEpochs': 1,\n",
       "    'penalty': 0.0,\n",
       "    'patience': 1,\n",
       "    'batchSize': 100,\n",
       "    'tolerance': 0.001}]}]"
      ]
     },
     "execution_count": 89,
     "metadata": {},
     "output_type": "execute_result"
    }
   ],
   "source": [
    "c = '''\n",
    "CALL gds.alpha.ml.pipeline.linkPrediction.configureParams('pipe',\n",
    "  [{tolerance: 0.001}, {tolerance: 0.01}, {maxEpochs: 500}]\n",
    ") YIELD parameterSpace\n",
    "'''\n",
    "print(c)\n",
    "run_cypher(c, results=True)"
   ]
  },
  {
   "cell_type": "code",
   "execution_count": 90,
   "id": "2168118a",
   "metadata": {},
   "outputs": [
    {
     "data": {
      "text/plain": [
       "[{'degreeDistribution': {'p99': 310,\n",
       "   'min': 1,\n",
       "   'max': 2132,\n",
       "   'mean': 31.762582919701256,\n",
       "   'p90': 80,\n",
       "   'p50': 10,\n",
       "   'p999': 698,\n",
       "   'p95': 132,\n",
       "   'p75': 32},\n",
       "  'graphName': 'proteins',\n",
       "  'database': 'neo4j',\n",
       "  'memoryUsage': '59 MiB',\n",
       "  'sizeInBytes': 62304804,\n",
       "  'nodeProjection': {'Protein': {'properties': {}, 'label': 'Protein'}},\n",
       "  'relationshipProjection': {'INTERACTS_WITH': {'orientation': 'UNDIRECTED',\n",
       "    'aggregation': 'DEFAULT',\n",
       "    'type': 'INTERACTS_WITH',\n",
       "    'properties': {}}},\n",
       "  'nodeQuery': None,\n",
       "  'relationshipQuery': None,\n",
       "  'nodeCount': 21557,\n",
       "  'relationshipCount': 1362009,\n",
       "  'nodeFilter': None,\n",
       "  'relationshipFilter': None,\n",
       "  'density': 0.002931051712164911,\n",
       "  'creationTime': neo4j.time.DateTime(2022, 2, 21, 10, 39, 25.327303, tzinfo=<DstTzInfo 'America/Chicago' CST-1 day, 18:00:00 STD>),\n",
       "  'modificationTime': neo4j.time.DateTime(2022, 2, 21, 10, 39, 43.94862, tzinfo=<DstTzInfo 'America/Chicago' CST-1 day, 18:00:00 STD>),\n",
       "  'schema': {'relationships': {'_TEST_': {'label': 'Integer (DefaultValue(-9223372036854775808), TRANSIENT, Aggregation.NONE)'},\n",
       "    '_FEATURE_INPUT_': {},\n",
       "    'INTERACTS_WITH': {},\n",
       "    '_TRAIN_': {'label': 'Integer (DefaultValue(-9223372036854775808), TRANSIENT, Aggregation.NONE)'}},\n",
       "   'nodes': {'Protein': {'embedding': 'List of Float (DefaultValue(null), TRANSIENT)'}}}}]"
      ]
     },
     "execution_count": 90,
     "metadata": {},
     "output_type": "execute_result"
    }
   ],
   "source": [
    "run_cypher('call gds.graph.list', results=True)"
   ]
  },
  {
   "cell_type": "code",
   "execution_count": 91,
   "id": "7915c0ef",
   "metadata": {},
   "outputs": [
    {
     "data": {
      "text/plain": [
       "[{'nodeProjection': {'Protein': {'properties': {}, 'label': 'Protein'}},\n",
       "  'relationshipProjection': {'INTERACTS_WITH': {'orientation': 'UNDIRECTED',\n",
       "    'aggregation': 'DEFAULT',\n",
       "    'type': 'INTERACTS_WITH',\n",
       "    'properties': {}}},\n",
       "  'graphName': 'proteins',\n",
       "  'nodeCount': 21557,\n",
       "  'relationshipCount': 684706,\n",
       "  'createMillis': 33}]"
      ]
     },
     "execution_count": 91,
     "metadata": {},
     "output_type": "execute_result"
    }
   ],
   "source": [
    "run_cypher('call gds.graph.drop(\"proteins\")')\n",
    "\n",
    "c = '''\n",
    "// Create in-memory graph of (Protein)-[:INTERACTS_WITH]-(Protein)\n",
    "CALL gds.graph.create(\n",
    "    'proteins',\n",
    "    'Protein',\n",
    "    {INTERACTS_WITH: \n",
    "        {\n",
    "            orientation: 'UNDIRECTED'\n",
    "        }\n",
    "    }\n",
    ")\n",
    "'''\n",
    "run_cypher(c, results=True)"
   ]
  },
  {
   "cell_type": "code",
   "execution_count": 92,
   "id": "5d1d7ad7",
   "metadata": {
    "scrolled": true
   },
   "outputs": [
    {
     "name": "stdout",
     "output_type": "stream",
     "text": [
      "\n",
      "CALL gds.alpha.ml.pipeline.linkPrediction.train('proteins', {\n",
      "  pipeline: 'pipe',\n",
      "  modelName: 'lp-pipeline-model',\n",
      "  randomSeed: 42\n",
      "}) YIELD modelInfo\n",
      "RETURN\n",
      "  modelInfo.bestParameters AS winningModel,\n",
      "  modelInfo.metrics.AUCPR.outerTrain AS trainGraphScore,\n",
      "  modelInfo.metrics.AUCPR.test AS testGraphScore\n",
      "\n"
     ]
    },
    {
     "data": {
      "text/plain": [
       "[{'winningModel': {'useBiasFeature': True,\n",
       "   'maxEpochs': 100,\n",
       "   'minEpochs': 1,\n",
       "   'penalty': 0.0,\n",
       "   'patience': 1,\n",
       "   'batchSize': 100,\n",
       "   'tolerance': 0.001,\n",
       "   'concurrency': 4},\n",
       "  'trainGraphScore': 0.9166697161186019,\n",
       "  'testGraphScore': 0.9143585845345259}]"
      ]
     },
     "execution_count": 92,
     "metadata": {},
     "output_type": "execute_result"
    }
   ],
   "source": [
    "c = '''\n",
    "CALL gds.alpha.ml.pipeline.linkPrediction.train('proteins', {\n",
    "  pipeline: 'pipe',\n",
    "  modelName: 'lp-pipeline-model',\n",
    "  randomSeed: 42\n",
    "}) YIELD modelInfo\n",
    "RETURN\n",
    "  modelInfo.bestParameters AS winningModel,\n",
    "  modelInfo.metrics.AUCPR.outerTrain AS trainGraphScore,\n",
    "  modelInfo.metrics.AUCPR.test AS testGraphScore\n",
    "'''\n",
    "print(c)\n",
    "run_cypher(c, results=True)"
   ]
  }
 ],
 "metadata": {
  "kernelspec": {
   "display_name": "Python 3",
   "language": "python",
   "name": "python3"
  },
  "language_info": {
   "codemirror_mode": {
    "name": "ipython",
    "version": 3
   },
   "file_extension": ".py",
   "mimetype": "text/x-python",
   "name": "python",
   "nbconvert_exporter": "python",
   "pygments_lexer": "ipython3",
   "version": "3.8.8"
  }
 },
 "nbformat": 4,
 "nbformat_minor": 5
}
