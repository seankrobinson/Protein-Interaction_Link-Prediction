{
 "cells": [
  {
   "cell_type": "markdown",
   "id": "31c9d09d",
   "metadata": {},
   "source": [
    "## [Graph Data Science Python Driver](https://github.com/neo4j/graph-data-science-client)"
   ]
  },
  {
   "cell_type": "markdown",
   "id": "8c1e8d1f",
   "metadata": {},
   "source": [
    "## Imports"
   ]
  },
  {
   "cell_type": "code",
   "execution_count": 71,
   "id": "aa8590cf",
   "metadata": {
    "scrolled": true
   },
   "outputs": [],
   "source": [
    "import pandas as pd\n",
    "from neo4j import GraphDatabase\n",
    "from graphdatascience import GraphDataScience"
   ]
  },
  {
   "cell_type": "markdown",
   "id": "bfd27448",
   "metadata": {},
   "source": [
    "## Setup (1.8)"
   ]
  },
  {
   "cell_type": "code",
   "execution_count": 72,
   "id": "48871144",
   "metadata": {
    "scrolled": true
   },
   "outputs": [],
   "source": [
    "URI      = \"neo4j://localhost:7687\"\n",
    "creds    = ('neo4j', 'password')\n",
    "driver   = GraphDatabase.driver(URI, auth=creds)\n",
    "\n",
    "def run_cypher(cypher, results=False):\n",
    "    with driver.session() as session:\n",
    "        r = session.run(cypher).data()\n",
    "    if results:\n",
    "        return r"
   ]
  },
  {
   "cell_type": "markdown",
   "id": "c950c648",
   "metadata": {},
   "source": [
    "## Setup (driver)"
   ]
  },
  {
   "cell_type": "code",
   "execution_count": 74,
   "id": "92474319",
   "metadata": {
    "scrolled": true
   },
   "outputs": [],
   "source": [
    "URI      = \"neo4j://localhost:7687\"\n",
    "creds    = ('neo4j', 'password')\n",
    "gds      = GraphDataScience(URI, auth=creds)"
   ]
  },
  {
   "cell_type": "markdown",
   "id": "6f63ebd8",
   "metadata": {},
   "source": [
    "## Create Link Prediction Pipeline (1.8)"
   ]
  },
  {
   "cell_type": "code",
   "execution_count": 75,
   "id": "c7fd92cb",
   "metadata": {
    "scrolled": false
   },
   "outputs": [],
   "source": [
    "run_cypher(\"CALL gds.beta.model.drop('pipe')\", results=True) i\n",
    "\n",
    "c = f'''\n",
    "CALL gds.alpha.ml.pipeline.linkPrediction.create('pipe')\n",
    "'''\n",
    "print(c)\n",
    "run_cypher(c, results=True)"
   ]
  },
  {
   "cell_type": "markdown",
   "id": "f05b5040",
   "metadata": {},
   "source": [
    "## Create Link Prediction Pipeline (driver)"
   ]
  },
  {
   "cell_type": "code",
   "execution_count": 76,
   "id": "90d694b5",
   "metadata": {
    "scrolled": false
   },
   "outputs": [],
   "source": [
    "pipe, _ = gds.beta.pipeline.linkPrediction.create(\"pipe\")"
   ]
  },
  {
   "cell_type": "markdown",
   "id": "c91446bb",
   "metadata": {},
   "source": [
    "## Add Fast RP Embeddings (1.8)"
   ]
  },
  {
   "cell_type": "code",
   "execution_count": 77,
   "id": "d20ade61",
   "metadata": {
    "scrolled": true
   },
   "outputs": [],
   "source": [
    "c = '''\n",
    "CALL gds.alpha.ml.pipeline.linkPrediction.addNodeProperty('pipe', 'fastRP', {\n",
    "  mutateProperty: 'embedding',\n",
    "  embeddingDimension: 256,\n",
    "  iterationWeights: [0.8, 1, 1, 1],\n",
    "  normalizationStrength: 0.5,\n",
    "  randomSeed: 42\n",
    "})\n",
    "'''\n",
    "print(c)\n",
    "run_cypher(c, results=True)"
   ]
  },
  {
   "cell_type": "markdown",
   "id": "cd6fb6f5",
   "metadata": {},
   "source": [
    "## Add Fast RP Embeddings (driver)"
   ]
  },
  {
   "cell_type": "code",
   "execution_count": 78,
   "id": "039c4925",
   "metadata": {
    "scrolled": true
   },
   "outputs": [
    {
     "data": {
      "text/plain": [
       "name                                                              pipe\n",
       "nodePropertySteps    [{'name': 'gds.fastRP.mutate', 'config': {'ran...\n",
       "featureSteps                                                        []\n",
       "splitConfig          {'negativeSamplingRatio': 1.0, 'testFraction':...\n",
       "parameterSpace          {'RandomForest': [], 'LogisticRegression': []}\n",
       "Name: 0, dtype: object"
      ]
     },
     "execution_count": 78,
     "metadata": {},
     "output_type": "execute_result"
    }
   ],
   "source": [
    "pipe.addNodeProperty(\"fastRP\", \n",
    "                     mutateProperty=\"embedding\",\n",
    "                     embeddingDimension= 256,\n",
    "                     iterationWeights= [0.8, 1, 1, 1],\n",
    "                     normalizationStrength= 0.5,\n",
    "                     randomSeed= 42)"
   ]
  },
  {
   "cell_type": "markdown",
   "id": "54d20d1b",
   "metadata": {},
   "source": [
    "## Add pageRank (1.8)"
   ]
  },
  {
   "cell_type": "code",
   "execution_count": 79,
   "id": "f4908df9",
   "metadata": {
    "scrolled": true
   },
   "outputs": [],
   "source": [
    "c = '''\n",
    "CALL gds.alpha.ml.pipeline.linkPrediction.addNodeProperty('pipe', 'pageRank', \n",
    "{\n",
    "  mutateProperty: 'pageRank'\n",
    "})\n",
    "'''\n",
    "print(c)\n",
    "run_cypher(c, results=True)"
   ]
  },
  {
   "cell_type": "markdown",
   "id": "1a01545d",
   "metadata": {},
   "source": [
    "## Add Betweenness Centrality (1.8)"
   ]
  },
  {
   "cell_type": "code",
   "execution_count": 80,
   "id": "94c078c2",
   "metadata": {
    "scrolled": true
   },
   "outputs": [],
   "source": [
    "c = '''\n",
    "CALL gds.alpha.ml.pipeline.linkPrediction.addNodeProperty('pipe', 'betweenness', \n",
    "{\n",
    "  mutateProperty: 'betweenness'\n",
    "})\n",
    "'''\n",
    "print(c)\n",
    "run_cypher(c, results=True)"
   ]
  },
  {
   "cell_type": "markdown",
   "id": "db5396d5",
   "metadata": {},
   "source": [
    "## Add pageRank & Betweenness Centrality (driver)"
   ]
  },
  {
   "cell_type": "code",
   "execution_count": 81,
   "id": "336ebbc8",
   "metadata": {
    "scrolled": false
   },
   "outputs": [],
   "source": [
    "for algo in ['pageRank', 'betweenness']:\n",
    "    pipe.addNodeProperty(algo, mutateProperty=algo)"
   ]
  },
  {
   "cell_type": "markdown",
   "id": "d8c939fb",
   "metadata": {},
   "source": [
    "## Add features to pipeline (1.8)"
   ]
  },
  {
   "cell_type": "code",
   "execution_count": 82,
   "id": "6cc9b15f",
   "metadata": {
    "scrolled": false
   },
   "outputs": [],
   "source": [
    "c = '''\n",
    "CALL gds.alpha.ml.pipeline.linkPrediction.addFeature('pipe', \n",
    "'hadamard', {\n",
    "  nodeProperties: ['embedding', 'pageRank', 'betweenness']\n",
    "}) YIELD featureSteps\n",
    "'''\n",
    "print(c)\n",
    "run_cypher(c, results=True)"
   ]
  },
  {
   "cell_type": "markdown",
   "id": "988160ad",
   "metadata": {},
   "source": [
    "## Add features to pipeline (driver)"
   ]
  },
  {
   "cell_type": "code",
   "execution_count": 83,
   "id": "99be0816",
   "metadata": {
    "scrolled": false
   },
   "outputs": [
    {
     "data": {
      "text/plain": [
       "name                                                              pipe\n",
       "nodePropertySteps    [{'name': 'gds.fastRP.mutate', 'config': {'ran...\n",
       "featureSteps         [{'name': 'HADAMARD', 'config': {'nodeProperti...\n",
       "splitConfig          {'negativeSamplingRatio': 1.0, 'testFraction':...\n",
       "parameterSpace          {'RandomForest': [], 'LogisticRegression': []}\n",
       "Name: 0, dtype: object"
      ]
     },
     "execution_count": 83,
     "metadata": {},
     "output_type": "execute_result"
    }
   ],
   "source": [
    "pipe.addFeature(\"hadamard\", nodeProperties=['embedding', 'pageRank', 'betweenness'])"
   ]
  },
  {
   "cell_type": "markdown",
   "id": "a7c6cb15",
   "metadata": {},
   "source": [
    "## Split Train/Test (1.8)"
   ]
  },
  {
   "cell_type": "code",
   "execution_count": 84,
   "id": "a6a04aeb",
   "metadata": {
    "scrolled": true
   },
   "outputs": [],
   "source": [
    "c = '''\n",
    "CALL gds.alpha.ml.pipeline.linkPrediction.configureSplit('pipe', {\n",
    "  testFraction: 0.3,\n",
    "  trainFraction: 0.3,\n",
    "  validationFolds: 7\n",
    "  })\n",
    "YIELD splitConfig\n",
    "'''\n",
    "print(c)\n",
    "run_cypher(c, results=True)"
   ]
  },
  {
   "cell_type": "markdown",
   "id": "b5e77401",
   "metadata": {},
   "source": [
    "## Split Train/Test (driver"
   ]
  },
  {
   "cell_type": "code",
   "execution_count": 85,
   "id": "7e48589a",
   "metadata": {
    "scrolled": true
   },
   "outputs": [
    {
     "data": {
      "text/plain": [
       "name                                                              pipe\n",
       "nodePropertySteps    [{'name': 'gds.fastRP.mutate', 'config': {'ran...\n",
       "featureSteps         [{'name': 'HADAMARD', 'config': {'nodeProperti...\n",
       "splitConfig          {'negativeSamplingRatio': 1.0, 'testFraction':...\n",
       "parameterSpace          {'RandomForest': [], 'LogisticRegression': []}\n",
       "Name: 0, dtype: object"
      ]
     },
     "execution_count": 85,
     "metadata": {},
     "output_type": "execute_result"
    }
   ],
   "source": [
    "pipe.configureSplit(trainFraction=0.3, testFraction=0.3, validationFolds=7)"
   ]
  },
  {
   "cell_type": "markdown",
   "id": "78932c79",
   "metadata": {},
   "source": [
    "## Create graph projection  (1.8)"
   ]
  },
  {
   "cell_type": "code",
   "execution_count": 86,
   "id": "7915c0ef",
   "metadata": {
    "scrolled": false
   },
   "outputs": [],
   "source": [
    "c = f'''\n",
    "CALL gds.graph.create(\n",
    "    'proteins',\n",
    "    'Protein',\n",
    "    {{INTERACTS_WITH: \n",
    "        {{\n",
    "            orientation: 'UNDIRECTED'\n",
    "        }}\n",
    "    }}\n",
    ")\n",
    "'''\n",
    "run_cypher(c, results=True)"
   ]
  },
  {
   "cell_type": "markdown",
   "id": "5c3d179b",
   "metadata": {},
   "source": [
    "## Create graph projection  (driver)"
   ]
  },
  {
   "cell_type": "code",
   "execution_count": 87,
   "id": "a9914152",
   "metadata": {
    "scrolled": false
   },
   "outputs": [],
   "source": [
    "node_projection = [\"Protein\"]\n",
    "relationship_projection = {\"INTERACTS_WITH\": {\"orientation\": \"UNDIRECTED\"}}\n",
    "G.drop()\n",
    "\n",
    "G, _ = gds.graph.project(\"proteins\", node_projection, relationship_projection)"
   ]
  },
  {
   "cell_type": "markdown",
   "id": "60d8592e",
   "metadata": {},
   "source": [
    "## Train link prediction model  (1.8)"
   ]
  },
  {
   "cell_type": "code",
   "execution_count": 88,
   "id": "5d1d7ad7",
   "metadata": {},
   "outputs": [],
   "source": [
    "run_cypher(\"call gds.beta.model.drop('lp-pipeline-model')\", results=True) \n",
    "\n",
    "c = '''\n",
    "CALL gds.alpha.ml.pipeline.linkPrediction.train('proteins', {\n",
    "  pipeline: 'pipe',\n",
    "  modelName: 'lp-pipeline-model',\n",
    "}) YIELD modelInfo\n",
    "RETURN\n",
    "  modelInfo.bestParameters AS winningModel,\n",
    "  modelInfo.metrics.AUCPR.outerTrain AS trainGraphScore,\n",
    "  modelInfo.metrics.AUCPR.test AS testGraphScore\n",
    "'''\n",
    "print(c)\n",
    "run_cypher(c, results=True)"
   ]
  },
  {
   "cell_type": "markdown",
   "id": "66b67154",
   "metadata": {},
   "source": [
    "## Train link prediction model  (driver"
   ]
  },
  {
   "cell_type": "code",
   "execution_count": 90,
   "id": "6e90edd7",
   "metadata": {
    "scrolled": true
   },
   "outputs": [],
   "source": [
    "pipe.addLogisticRegression()\n",
    "model_name = \"lp-pipeline-model\"\n",
    "\n",
    "trained_pipe_model, res = pipe.train(G, modelName=model_name)"
   ]
  },
  {
   "cell_type": "markdown",
   "id": "39a8d5fa",
   "metadata": {},
   "source": [
    "## Stream Results (1.8)"
   ]
  },
  {
   "cell_type": "code",
   "execution_count": 91,
   "id": "f31be857",
   "metadata": {
    "scrolled": false
   },
   "outputs": [],
   "source": [
    "c = '''\n",
    "CALL gds.alpha.ml.pipeline.linkPrediction.predict.stream('proteins', {\n",
    "  modelName: 'lp-pipeline-model',\n",
    "  topN: 5,\n",
    "  threshold: 0.3\n",
    "})\n",
    " YIELD node1, node2, probability\n",
    " RETURN gds.util.asNode(node1).id AS protein1, gds.util.asNode(node2).id AS protein2, probability\n",
    " ORDER BY probability DESC, protein1\n",
    "'''\n",
    "print(c)\n",
    "results = run_cypher(c, results=True)"
   ]
  },
  {
   "cell_type": "markdown",
   "id": "32661c04",
   "metadata": {},
   "source": [
    "## Stream Results (driver)"
   ]
  },
  {
   "cell_type": "code",
   "execution_count": 92,
   "id": "a85f021d",
   "metadata": {
    "scrolled": false
   },
   "outputs": [],
   "source": [
    "results = trained_pipe_model.predict_stream(G, topN=5)"
   ]
  },
  {
   "cell_type": "code",
   "execution_count": 93,
   "id": "07165908",
   "metadata": {},
   "outputs": [
    {
     "data": {
      "text/html": [
       "<div>\n",
       "<style scoped>\n",
       "    .dataframe tbody tr th:only-of-type {\n",
       "        vertical-align: middle;\n",
       "    }\n",
       "\n",
       "    .dataframe tbody tr th {\n",
       "        vertical-align: top;\n",
       "    }\n",
       "\n",
       "    .dataframe thead th {\n",
       "        text-align: right;\n",
       "    }\n",
       "</style>\n",
       "<table border=\"1\" class=\"dataframe\">\n",
       "  <thead>\n",
       "    <tr style=\"text-align: right;\">\n",
       "      <th></th>\n",
       "      <th>node1</th>\n",
       "      <th>node2</th>\n",
       "      <th>probability</th>\n",
       "    </tr>\n",
       "  </thead>\n",
       "  <tbody>\n",
       "    <tr>\n",
       "      <th>0</th>\n",
       "      <td>12056</td>\n",
       "      <td>14010</td>\n",
       "      <td>0.643261</td>\n",
       "    </tr>\n",
       "    <tr>\n",
       "      <th>1</th>\n",
       "      <td>124</td>\n",
       "      <td>1619</td>\n",
       "      <td>0.642388</td>\n",
       "    </tr>\n",
       "    <tr>\n",
       "      <th>2</th>\n",
       "      <td>1619</td>\n",
       "      <td>11560</td>\n",
       "      <td>0.641647</td>\n",
       "    </tr>\n",
       "    <tr>\n",
       "      <th>3</th>\n",
       "      <td>3023</td>\n",
       "      <td>11346</td>\n",
       "      <td>0.641638</td>\n",
       "    </tr>\n",
       "    <tr>\n",
       "      <th>4</th>\n",
       "      <td>930</td>\n",
       "      <td>1523</td>\n",
       "      <td>0.641341</td>\n",
       "    </tr>\n",
       "  </tbody>\n",
       "</table>\n",
       "</div>"
      ],
      "text/plain": [
       "   node1  node2  probability\n",
       "0  12056  14010     0.643261\n",
       "1    124   1619     0.642388\n",
       "2   1619  11560     0.641647\n",
       "3   3023  11346     0.641638\n",
       "4    930   1523     0.641341"
      ]
     },
     "execution_count": 93,
     "metadata": {},
     "output_type": "execute_result"
    }
   ],
   "source": [
    "results"
   ]
  },
  {
   "cell_type": "code",
   "execution_count": null,
   "id": "4ecbad42",
   "metadata": {},
   "outputs": [],
   "source": [
    "bb"
   ]
  },
  {
   "cell_type": "code",
   "execution_count": null,
   "id": "741f7e42",
   "metadata": {},
   "outputs": [],
   "source": []
  },
  {
   "cell_type": "code",
   "execution_count": null,
   "id": "56cec82f",
   "metadata": {},
   "outputs": [],
   "source": []
  },
  {
   "cell_type": "code",
   "execution_count": null,
   "id": "adc2831d",
   "metadata": {},
   "outputs": [],
   "source": []
  },
  {
   "cell_type": "code",
   "execution_count": null,
   "id": "00e4ec4a",
   "metadata": {},
   "outputs": [],
   "source": []
  },
  {
   "cell_type": "code",
   "execution_count": null,
   "id": "6b87e74a",
   "metadata": {},
   "outputs": [],
   "source": []
  }
 ],
 "metadata": {
  "kernelspec": {
   "display_name": "Python 3",
   "language": "python",
   "name": "python3"
  },
  "language_info": {
   "codemirror_mode": {
    "name": "ipython",
    "version": 3
   },
   "file_extension": ".py",
   "mimetype": "text/x-python",
   "name": "python",
   "nbconvert_exporter": "python",
   "pygments_lexer": "ipython3",
   "version": "3.8.8"
  }
 },
 "nbformat": 4,
 "nbformat_minor": 5
}
